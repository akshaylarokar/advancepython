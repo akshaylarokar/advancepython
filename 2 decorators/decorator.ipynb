{
 "cells": [
  {
   "cell_type": "code",
   "execution_count": null,
   "metadata": {},
   "outputs": [],
   "source": []
  },
  {
   "cell_type": "markdown",
   "metadata": {},
   "source": [
    "# Decorators"
   ]
  },
  {
   "cell_type": "markdown",
   "metadata": {},
   "source": [
    "## **Kwargs in python"
   ]
  },
  {
   "cell_type": "markdown",
   "metadata": {},
   "source": [
    "a = 23 - int (any number without decimal)\n",
    "b = 45.7 - float (any number with decimal)\n",
    "c = \"example\" - str (contains characters, numbers and symbol)\n",
    "d = True / False - Boolean\n",
    "e = [1, 2, 3, False, \"Example\"] - list\n",
    "f = (4, 5.6, True, \"Example\") - tuple\n",
    "g = {key1: value1, key2: value2, ...} - dict\n",
    "h = {value1, value2, value3, ...} - set will store only unique values"
   ]
  },
  {
   "cell_type": "markdown",
   "metadata": {},
   "source": [
    "**kwargs - acts likes a dictinory"
   ]
  },
  {
   "cell_type": "code",
   "execution_count": 3,
   "metadata": {},
   "outputs": [],
   "source": [
    "a = {\n",
    "    \"name\": \"Utkarsh\",\n",
    "    \"age\": 28,\n",
    "    \"salary\": 15000\n",
    "}"
   ]
  },
  {
   "cell_type": "code",
   "execution_count": 4,
   "metadata": {},
   "outputs": [
    {
     "data": {
      "text/plain": [
       "dict"
      ]
     },
     "execution_count": 4,
     "metadata": {},
     "output_type": "execute_result"
    }
   ],
   "source": [
    "type(a)"
   ]
  },
  {
   "cell_type": "code",
   "execution_count": 5,
   "metadata": {},
   "outputs": [
    {
     "data": {
      "text/plain": [
       "dict_keys(['name', 'age', 'salary'])"
      ]
     },
     "execution_count": 5,
     "metadata": {},
     "output_type": "execute_result"
    }
   ],
   "source": [
    "a.keys()"
   ]
  },
  {
   "cell_type": "code",
   "execution_count": 6,
   "metadata": {},
   "outputs": [
    {
     "data": {
      "text/plain": [
       "dict_values(['Utkarsh', 28, 15000])"
      ]
     },
     "execution_count": 6,
     "metadata": {},
     "output_type": "execute_result"
    }
   ],
   "source": [
    "a.values()"
   ]
  },
  {
   "cell_type": "code",
   "execution_count": 7,
   "metadata": {},
   "outputs": [
    {
     "data": {
      "text/plain": [
       "dict_items([('name', 'Utkarsh'), ('age', 28), ('salary', 15000)])"
      ]
     },
     "execution_count": 7,
     "metadata": {},
     "output_type": "execute_result"
    }
   ],
   "source": [
    "a.items()"
   ]
  },
  {
   "cell_type": "code",
   "execution_count": 8,
   "metadata": {},
   "outputs": [
    {
     "name": "stdout",
     "output_type": "stream",
     "text": [
      "name : Utkarsh\n",
      "age : 28\n",
      "salary : 15000\n"
     ]
    }
   ],
   "source": [
    "for key, value in a.items():\n",
    "    print(f\"{key} : {value}\")"
   ]
  },
  {
   "cell_type": "code",
   "execution_count": 9,
   "metadata": {},
   "outputs": [],
   "source": [
    "def function(**kwargs):\n",
    "    print(kwargs)\n",
    "    print(type(kwargs))\n",
    "    for key, value in kwargs.items():\n",
    "        print(f\"{key} : {value}\")"
   ]
  },
  {
   "cell_type": "code",
   "execution_count": 10,
   "metadata": {},
   "outputs": [
    {
     "name": "stdout",
     "output_type": "stream",
     "text": [
      "{'name': 'sarthak', 'age': 23}\n",
      "<class 'dict'>\n",
      "name : sarthak\n",
      "age : 23\n"
     ]
    }
   ],
   "source": [
    "function(name=\"sarthak\",age=23)"
   ]
  },
  {
   "cell_type": "code",
   "execution_count": 11,
   "metadata": {},
   "outputs": [
    {
     "name": "stdout",
     "output_type": "stream",
     "text": [
      "{'emp_id': 101, 'name': 'Aditi', 'dept': 'HR', 'married': True}\n",
      "<class 'dict'>\n",
      "emp_id : 101\n",
      "name : Aditi\n",
      "dept : HR\n",
      "married : True\n"
     ]
    }
   ],
   "source": [
    "function(emp_id=101, name=\"Aditi\", dept=\"HR\", married=True)"
   ]
  },
  {
   "cell_type": "markdown",
   "metadata": {},
   "source": [
    "# Example consider a restauraunt menu, condier menu is provided with taxes included in a dictionary"
   ]
  },
  {
   "cell_type": "code",
   "execution_count": 12,
   "metadata": {},
   "outputs": [],
   "source": [
    "menu = {\n",
    "    \"burger\": 120,\n",
    "    \"sandwich\": 80,\n",
    "    \"fries\": 60,\n",
    "    \"pasta\": 200,\n",
    "    \"pizza\": 300\n",
    "}"
   ]
  },
  {
   "cell_type": "code",
   "execution_count": 13,
   "metadata": {},
   "outputs": [
    {
     "data": {
      "text/plain": [
       "120"
      ]
     },
     "execution_count": 13,
     "metadata": {},
     "output_type": "execute_result"
    }
   ],
   "source": [
    "menu.get(\"burger\")"
   ]
  },
  {
   "cell_type": "code",
   "execution_count": 14,
   "metadata": {},
   "outputs": [
    {
     "name": "stdout",
     "output_type": "stream",
     "text": [
      "None\n"
     ]
    }
   ],
   "source": [
    "print(menu.get(\"maggie\"))"
   ]
  },
  {
   "cell_type": "code",
   "execution_count": 19,
   "metadata": {},
   "outputs": [],
   "source": [
    "def hotel_bill(table_no, **kwargs):\n",
    "    # print table number\n",
    "    print(f\"Table number - {table_no}\")\n",
    "    # Intialize total amount to 0\n",
    "    amt = 0\n",
    "    # apply for loop on kwargs\n",
    "    for food, qty in kwargs.items():\n",
    "        price = menu.get(food)\n",
    "        if price is not None:\n",
    "            subtotal = price*qty\n",
    "            amt += subtotal\n",
    "            print(f\"Food item - {food}, qty- {qty}, price - {price} INR, subtotal - {subtotal} INR\")\n",
    "    # Show the final bill\n",
    "    print(f\"Final Bill is : {amt} INR\")\n",
    "    return amt\n"
   ]
  },
  {
   "cell_type": "code",
   "execution_count": 20,
   "metadata": {},
   "outputs": [
    {
     "name": "stdout",
     "output_type": "stream",
     "text": [
      "Table number - 1\n",
      "Food item - burger, qty- 1, price - 120 INR, subtotal - 120 INR\n",
      "Food item - fries, qty- 2, price - 60 INR, subtotal - 120 INR\n",
      "Final Bill is : 240 INR\n"
     ]
    }
   ],
   "source": [
    "c1 = hotel_bill(\n",
    "    table_no=1,\n",
    "    burger=1,\n",
    "    fries=2\n",
    ")"
   ]
  },
  {
   "cell_type": "code",
   "execution_count": 21,
   "metadata": {},
   "outputs": [
    {
     "data": {
      "text/plain": [
       "240"
      ]
     },
     "execution_count": 21,
     "metadata": {},
     "output_type": "execute_result"
    }
   ],
   "source": [
    "c1"
   ]
  },
  {
   "cell_type": "code",
   "execution_count": 22,
   "metadata": {},
   "outputs": [
    {
     "name": "stdout",
     "output_type": "stream",
     "text": [
      "Table number - 2\n",
      "Food item - sandwich, qty- 4, price - 80 INR, subtotal - 320 INR\n",
      "Food item - pizza, qty- 1, price - 300 INR, subtotal - 300 INR\n",
      "Food item - fries, qty- 5, price - 60 INR, subtotal - 300 INR\n",
      "Final Bill is : 920 INR\n"
     ]
    }
   ],
   "source": [
    "c2 = hotel_bill(\n",
    "    table_no=2,\n",
    "    sandwich = 4,\n",
    "    pizza = 1,\n",
    "    fries = 5\n",
    ")"
   ]
  },
  {
   "cell_type": "code",
   "execution_count": 23,
   "metadata": {},
   "outputs": [
    {
     "data": {
      "text/plain": [
       "920"
      ]
     },
     "execution_count": 23,
     "metadata": {},
     "output_type": "execute_result"
    }
   ],
   "source": [
    "c2"
   ]
  },
  {
   "cell_type": "code",
   "execution_count": null,
   "metadata": {},
   "outputs": [],
   "source": []
  }
 ],
 "metadata": {
  "kernelspec": {
   "display_name": "venv",
   "language": "python",
   "name": "python3"
  },
  "language_info": {
   "codemirror_mode": {
    "name": "ipython",
    "version": 3
   },
   "file_extension": ".py",
   "mimetype": "text/x-python",
   "name": "python",
   "nbconvert_exporter": "python",
   "pygments_lexer": "ipython3",
   "version": "3.12.5"
  }
 },
 "nbformat": 4,
 "nbformat_minor": 2
}
